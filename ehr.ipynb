{
 "cells": [
  {
   "cell_type": "code",
   "execution_count": 239,
   "outputs": [],
   "source": [
    "import pandas as pd\n",
    "import numpy as np\n",
    "import matplotlib.pyplot as plt\n",
    "import seaborn as sns\n",
    "%matplotlib inline"
   ],
   "metadata": {
    "collapsed": false,
    "pycharm": {
     "name": "#%%\n"
    }
   }
  },
  {
   "cell_type": "code",
   "execution_count": 240,
   "outputs": [],
   "source": [
    "df = pd.read_csv(\"data/data-ori.csv\")"
   ],
   "metadata": {
    "collapsed": false,
    "pycharm": {
     "name": "#%%\n"
    }
   }
  },
  {
   "cell_type": "code",
   "execution_count": 241,
   "outputs": [
    {
     "data": {
      "text/plain": "   HAEMATOCRIT  HAEMOGLOBINS  ERYTHROCYTE  LEUCOCYTE  THROMBOCYTE   MCH  MCHC  \\\n0         35.1          11.8         4.65        6.3          310  25.4  33.6   \n1         43.5          14.8         5.39       12.7          334  27.5  34.0   \n2         33.5          11.3         4.74       13.2          305  23.8  33.7   \n3         39.1          13.7         4.98       10.5          366  27.5  35.0   \n4         30.9           9.9         4.23       22.1          333  23.4  32.0   \n\n    MCV  AGE SEX SOURCE  \n0  75.5    1   F    out  \n1  80.7    1   F    out  \n2  70.7    1   F    out  \n3  78.5    1   F    out  \n4  73.0    1   M    out  ",
      "text/html": "<div>\n<style scoped>\n    .dataframe tbody tr th:only-of-type {\n        vertical-align: middle;\n    }\n\n    .dataframe tbody tr th {\n        vertical-align: top;\n    }\n\n    .dataframe thead th {\n        text-align: right;\n    }\n</style>\n<table border=\"1\" class=\"dataframe\">\n  <thead>\n    <tr style=\"text-align: right;\">\n      <th></th>\n      <th>HAEMATOCRIT</th>\n      <th>HAEMOGLOBINS</th>\n      <th>ERYTHROCYTE</th>\n      <th>LEUCOCYTE</th>\n      <th>THROMBOCYTE</th>\n      <th>MCH</th>\n      <th>MCHC</th>\n      <th>MCV</th>\n      <th>AGE</th>\n      <th>SEX</th>\n      <th>SOURCE</th>\n    </tr>\n  </thead>\n  <tbody>\n    <tr>\n      <th>0</th>\n      <td>35.1</td>\n      <td>11.8</td>\n      <td>4.65</td>\n      <td>6.3</td>\n      <td>310</td>\n      <td>25.4</td>\n      <td>33.6</td>\n      <td>75.5</td>\n      <td>1</td>\n      <td>F</td>\n      <td>out</td>\n    </tr>\n    <tr>\n      <th>1</th>\n      <td>43.5</td>\n      <td>14.8</td>\n      <td>5.39</td>\n      <td>12.7</td>\n      <td>334</td>\n      <td>27.5</td>\n      <td>34.0</td>\n      <td>80.7</td>\n      <td>1</td>\n      <td>F</td>\n      <td>out</td>\n    </tr>\n    <tr>\n      <th>2</th>\n      <td>33.5</td>\n      <td>11.3</td>\n      <td>4.74</td>\n      <td>13.2</td>\n      <td>305</td>\n      <td>23.8</td>\n      <td>33.7</td>\n      <td>70.7</td>\n      <td>1</td>\n      <td>F</td>\n      <td>out</td>\n    </tr>\n    <tr>\n      <th>3</th>\n      <td>39.1</td>\n      <td>13.7</td>\n      <td>4.98</td>\n      <td>10.5</td>\n      <td>366</td>\n      <td>27.5</td>\n      <td>35.0</td>\n      <td>78.5</td>\n      <td>1</td>\n      <td>F</td>\n      <td>out</td>\n    </tr>\n    <tr>\n      <th>4</th>\n      <td>30.9</td>\n      <td>9.9</td>\n      <td>4.23</td>\n      <td>22.1</td>\n      <td>333</td>\n      <td>23.4</td>\n      <td>32.0</td>\n      <td>73.0</td>\n      <td>1</td>\n      <td>M</td>\n      <td>out</td>\n    </tr>\n  </tbody>\n</table>\n</div>"
     },
     "execution_count": 241,
     "metadata": {},
     "output_type": "execute_result"
    }
   ],
   "source": [
    "df.head()"
   ],
   "metadata": {
    "collapsed": false,
    "pycharm": {
     "name": "#%%\n"
    }
   }
  },
  {
   "cell_type": "code",
   "execution_count": 242,
   "outputs": [
    {
     "data": {
      "text/plain": "(4412, 11)"
     },
     "execution_count": 242,
     "metadata": {},
     "output_type": "execute_result"
    }
   ],
   "source": [
    "df.shape"
   ],
   "metadata": {
    "collapsed": false,
    "pycharm": {
     "name": "#%%\n"
    }
   }
  },
  {
   "cell_type": "code",
   "execution_count": 243,
   "outputs": [
    {
     "data": {
      "text/plain": "HAEMATOCRIT     0\nHAEMOGLOBINS    0\nERYTHROCYTE     0\nLEUCOCYTE       0\nTHROMBOCYTE     0\nMCH             0\nMCHC            0\nMCV             0\nAGE             0\nSEX             0\nSOURCE          0\ndtype: int64"
     },
     "execution_count": 243,
     "metadata": {},
     "output_type": "execute_result"
    }
   ],
   "source": [
    "df.isnull().sum()"
   ],
   "metadata": {
    "collapsed": false,
    "pycharm": {
     "name": "#%%\n"
    }
   }
  },
  {
   "cell_type": "code",
   "execution_count": 244,
   "outputs": [],
   "source": [
    "numerical_features = [feature for feature in df.columns if df[feature].dtype != 'O']"
   ],
   "metadata": {
    "collapsed": false,
    "pycharm": {
     "name": "#%%\n"
    }
   }
  },
  {
   "cell_type": "code",
   "execution_count": 245,
   "outputs": [
    {
     "data": {
      "text/plain": "      HAEMATOCRIT  HAEMOGLOBINS  ERYTHROCYTE  LEUCOCYTE  THROMBOCYTE   MCH  \\\n0            35.1          11.8         4.65        6.3          310  25.4   \n1            43.5          14.8         5.39       12.7          334  27.5   \n2            33.5          11.3         4.74       13.2          305  23.8   \n3            39.1          13.7         4.98       10.5          366  27.5   \n4            30.9           9.9         4.23       22.1          333  23.4   \n...           ...           ...          ...        ...          ...   ...   \n4407         32.8          10.4         3.49        8.1           72  29.8   \n4408         33.7          10.8         3.67        6.7           70  29.4   \n4409         33.2          11.2         3.47        7.2          235  32.3   \n4410         31.5          10.4         3.15        9.1          187  33.0   \n4411         33.5          10.9         3.44        5.8          275  31.7   \n\n      MCHC    MCV  AGE  \n0     33.6   75.5    1  \n1     34.0   80.7    1  \n2     33.7   70.7    1  \n3     35.0   78.5    1  \n4     32.0   73.0    1  \n...    ...    ...  ...  \n4407  31.7   94.0   92  \n4408  32.0   91.8   92  \n4409  33.7   95.7   93  \n4410  33.0  100.0   98  \n4411  32.5   97.4   99  \n\n[4412 rows x 9 columns]",
      "text/html": "<div>\n<style scoped>\n    .dataframe tbody tr th:only-of-type {\n        vertical-align: middle;\n    }\n\n    .dataframe tbody tr th {\n        vertical-align: top;\n    }\n\n    .dataframe thead th {\n        text-align: right;\n    }\n</style>\n<table border=\"1\" class=\"dataframe\">\n  <thead>\n    <tr style=\"text-align: right;\">\n      <th></th>\n      <th>HAEMATOCRIT</th>\n      <th>HAEMOGLOBINS</th>\n      <th>ERYTHROCYTE</th>\n      <th>LEUCOCYTE</th>\n      <th>THROMBOCYTE</th>\n      <th>MCH</th>\n      <th>MCHC</th>\n      <th>MCV</th>\n      <th>AGE</th>\n    </tr>\n  </thead>\n  <tbody>\n    <tr>\n      <th>0</th>\n      <td>35.1</td>\n      <td>11.8</td>\n      <td>4.65</td>\n      <td>6.3</td>\n      <td>310</td>\n      <td>25.4</td>\n      <td>33.6</td>\n      <td>75.5</td>\n      <td>1</td>\n    </tr>\n    <tr>\n      <th>1</th>\n      <td>43.5</td>\n      <td>14.8</td>\n      <td>5.39</td>\n      <td>12.7</td>\n      <td>334</td>\n      <td>27.5</td>\n      <td>34.0</td>\n      <td>80.7</td>\n      <td>1</td>\n    </tr>\n    <tr>\n      <th>2</th>\n      <td>33.5</td>\n      <td>11.3</td>\n      <td>4.74</td>\n      <td>13.2</td>\n      <td>305</td>\n      <td>23.8</td>\n      <td>33.7</td>\n      <td>70.7</td>\n      <td>1</td>\n    </tr>\n    <tr>\n      <th>3</th>\n      <td>39.1</td>\n      <td>13.7</td>\n      <td>4.98</td>\n      <td>10.5</td>\n      <td>366</td>\n      <td>27.5</td>\n      <td>35.0</td>\n      <td>78.5</td>\n      <td>1</td>\n    </tr>\n    <tr>\n      <th>4</th>\n      <td>30.9</td>\n      <td>9.9</td>\n      <td>4.23</td>\n      <td>22.1</td>\n      <td>333</td>\n      <td>23.4</td>\n      <td>32.0</td>\n      <td>73.0</td>\n      <td>1</td>\n    </tr>\n    <tr>\n      <th>...</th>\n      <td>...</td>\n      <td>...</td>\n      <td>...</td>\n      <td>...</td>\n      <td>...</td>\n      <td>...</td>\n      <td>...</td>\n      <td>...</td>\n      <td>...</td>\n    </tr>\n    <tr>\n      <th>4407</th>\n      <td>32.8</td>\n      <td>10.4</td>\n      <td>3.49</td>\n      <td>8.1</td>\n      <td>72</td>\n      <td>29.8</td>\n      <td>31.7</td>\n      <td>94.0</td>\n      <td>92</td>\n    </tr>\n    <tr>\n      <th>4408</th>\n      <td>33.7</td>\n      <td>10.8</td>\n      <td>3.67</td>\n      <td>6.7</td>\n      <td>70</td>\n      <td>29.4</td>\n      <td>32.0</td>\n      <td>91.8</td>\n      <td>92</td>\n    </tr>\n    <tr>\n      <th>4409</th>\n      <td>33.2</td>\n      <td>11.2</td>\n      <td>3.47</td>\n      <td>7.2</td>\n      <td>235</td>\n      <td>32.3</td>\n      <td>33.7</td>\n      <td>95.7</td>\n      <td>93</td>\n    </tr>\n    <tr>\n      <th>4410</th>\n      <td>31.5</td>\n      <td>10.4</td>\n      <td>3.15</td>\n      <td>9.1</td>\n      <td>187</td>\n      <td>33.0</td>\n      <td>33.0</td>\n      <td>100.0</td>\n      <td>98</td>\n    </tr>\n    <tr>\n      <th>4411</th>\n      <td>33.5</td>\n      <td>10.9</td>\n      <td>3.44</td>\n      <td>5.8</td>\n      <td>275</td>\n      <td>31.7</td>\n      <td>32.5</td>\n      <td>97.4</td>\n      <td>99</td>\n    </tr>\n  </tbody>\n</table>\n<p>4412 rows × 9 columns</p>\n</div>"
     },
     "execution_count": 245,
     "metadata": {},
     "output_type": "execute_result"
    }
   ],
   "source": [
    "df[numerical_features]"
   ],
   "metadata": {
    "collapsed": false,
    "pycharm": {
     "name": "#%%\n"
    }
   }
  },
  {
   "cell_type": "code",
   "execution_count": 246,
   "outputs": [
    {
     "name": "stderr",
     "output_type": "stream",
     "text": [
      "/home/rohit/anaconda3/lib/python3.9/site-packages/seaborn/_decorators.py:36: FutureWarning: Pass the following variable as a keyword arg: x. From version 0.12, the only valid positional argument will be `data`, and passing other arguments without an explicit keyword will result in an error or misinterpretation.\n",
      "  warnings.warn(\n"
     ]
    },
    {
     "data": {
      "text/plain": "<Figure size 432x288 with 1 Axes>",
      "image/png": "[encoded data removed]"
     },
     "metadata": {
      "needs_background": "light"
     },
     "output_type": "display_data"
    },
    {
     "name": "stderr",
     "output_type": "stream",
     "text": [
      "/home/rohit/anaconda3/lib/python3.9/site-packages/seaborn/_decorators.py:36: FutureWarning: Pass the following variable as a keyword arg: x. From version 0.12, the only valid positional argument will be `data`, and passing other arguments without an explicit keyword will result in an error or misinterpretation.\n",
      "  warnings.warn(\n"
     ]
    },
    {
     "data": {
      "text/plain": "<Figure size 432x288 with 1 Axes>",
      "image/png": "[encoded data removed]"
     },
     "metadata": {
      "needs_background": "light"
     },
     "output_type": "display_data"
    },
    {
     "name": "stderr",
     "output_type": "stream",
     "text": [
      "/home/rohit/anaconda3/lib/python3.9/site-packages/seaborn/_decorators.py:36: FutureWarning: Pass the following variable as a keyword arg: x. From version 0.12, the only valid positional argument will be `data`, and passing other arguments without an explicit keyword will result in an error or misinterpretation.\n",
      "  warnings.warn(\n"
     ]
    },
    {
     "data": {
      "text/plain": "<Figure size 432x288 with 1 Axes>",
      "image/png": "[encoded data removed]"
     },
     "metadata": {
      "needs_background": "light"
     },
     "output_type": "display_data"
    },
    {
     "name": "stderr",
     "output_type": "stream",
     "text": [
      "/home/rohit/anaconda3/lib/python3.9/site-packages/seaborn/_decorators.py:36: FutureWarning: Pass the following variable as a keyword arg: x. From version 0.12, the only valid positional argument will be `data`, and passing other arguments without an explicit keyword will result in an error or misinterpretation.\n",
      "  warnings.warn(\n"
     ]
    },
    {
     "data": {
      "text/plain": "<Figure size 432x288 with 1 Axes>",
      "image/png": "[encoded data removed]"
     },
     "metadata": {
      "needs_background": "light"
     },
     "output_type": "display_data"
    },
    {
     "name": "stderr",
     "output_type": "stream",
     "text": [
      "/home/rohit/anaconda3/lib/python3.9/site-packages/seaborn/_decorators.py:36: FutureWarning: Pass the following variable as a keyword arg: x. From version 0.12, the only valid positional argument will be `data`, and passing other arguments without an explicit keyword will result in an error or misinterpretation.\n",
      "  warnings.warn(\n"
     ]
    },
    {
     "data": {
      "text/plain": "<Figure size 432x288 with 1 Axes>",
      "image/png": "[encoded data removed]"
     },
     "metadata": {
      "needs_background": "light"
     },
     "output_type": "display_data"
    },
    {
     "name": "stderr",
     "output_type": "stream",
     "text": [
      "/home/rohit/anaconda3/lib/python3.9/site-packages/seaborn/_decorators.py:36: FutureWarning: Pass the following variable as a keyword arg: x. From version 0.12, the only valid positional argument will be `data`, and passing other arguments without an explicit keyword will result in an error or misinterpretation.\n",
      "  warnings.warn(\n"
     ]
    },
    {
     "data": {
      "text/plain": "<Figure size 432x288 with 1 Axes>",
      "image/png": "[encoded data removed]"
     },
     "metadata": {
      "needs_background": "light"
     },
     "output_type": "display_data"
    },
    {
     "name": "stderr",
     "output_type": "stream",
     "text": [
      "/home/rohit/anaconda3/lib/python3.9/site-packages/seaborn/_decorators.py:36: FutureWarning: Pass the following variable as a keyword arg: x. From version 0.12, the only valid positional argument will be `data`, and passing other arguments without an explicit keyword will result in an error or misinterpretation.\n",
      "  warnings.warn(\n"
     ]
    },
    {
     "data": {
      "text/plain": "<Figure size 432x288 with 1 Axes>",
      "image/png": "[encoded data removed]"
     },
     "metadata": {
      "needs_background": "light"
     },
     "output_type": "display_data"
    },
    {
     "name": "stderr",
     "output_type": "stream",
     "text": [
      "/home/rohit/anaconda3/lib/python3.9/site-packages/seaborn/_decorators.py:36: FutureWarning: Pass the following variable as a keyword arg: x. From version 0.12, the only valid positional argument will be `data`, and passing other arguments without an explicit keyword will result in an error or misinterpretation.\n",
      "  warnings.warn(\n"
     ]
    },
    {
     "data": {
      "text/plain": "<Figure size 432x288 with 1 Axes>",
      "image/png": "[encoded data removed]"
     },
     "metadata": {
      "needs_background": "light"
     },
     "output_type": "display_data"
    },
    {
     "name": "stderr",
     "output_type": "stream",
     "text": [
      "/home/rohit/anaconda3/lib/python3.9/site-packages/seaborn/_decorators.py:36: FutureWarning: Pass the following variable as a keyword arg: x. From version 0.12, the only valid positional argument will be `data`, and passing other arguments without an explicit keyword will result in an error or misinterpretation.\n",
      "  warnings.warn(\n"
     ]
    },
    {
     "data": {
      "text/plain": "<Figure size 432x288 with 1 Axes>",
      "image/png": "[encoded data removed]"
     },
     "metadata": {
      "needs_background": "light"
     },
     "output_type": "display_data"
    }
   ],
   "source": [
    "data = df.copy()\n",
    "for feature in numerical_features:\n",
    "\tsns.boxplot(data[feature])\n",
    "\tplt.show()"
   ],
   "metadata": {
    "collapsed": false,
    "pycharm": {
     "name": "#%%\n"
    }
   }
  },
  {
   "cell_type": "code",
   "execution_count": 247,
   "outputs": [],
   "source": [
    "outlier_features = [feature for feature in numerical_features if feature !=  'AGE']"
   ],
   "metadata": {
    "collapsed": false,
    "pycharm": {
     "name": "#%%\n"
    }
   }
  },
  {
   "cell_type": "code",
   "execution_count": 248,
   "outputs": [
    {
     "name": "stdout",
     "output_type": "stream",
     "text": [
      "<class 'pandas.core.frame.DataFrame'>\n",
      "RangeIndex: 4412 entries, 0 to 4411\n",
      "Data columns (total 11 columns):\n",
      " #   Column        Non-Null Count  Dtype  \n",
      "---  ------        --------------  -----  \n",
      " 0   HAEMATOCRIT   4412 non-null   float64\n",
      " 1   HAEMOGLOBINS  4412 non-null   float64\n",
      " 2   ERYTHROCYTE   4412 non-null   float64\n",
      " 3   LEUCOCYTE     4412 non-null   float64\n",
      " 4   THROMBOCYTE   4412 non-null   int64  \n",
      " 5   MCH           4412 non-null   float64\n",
      " 6   MCHC          4412 non-null   float64\n",
      " 7   MCV           4412 non-null   float64\n",
      " 8   AGE           4412 non-null   int64  \n",
      " 9   SEX           4412 non-null   object \n",
      " 10  SOURCE        4412 non-null   object \n",
      "dtypes: float64(7), int64(2), object(2)\n",
      "memory usage: 379.3+ KB\n"
     ]
    }
   ],
   "source": [
    "df.info()"
   ],
   "metadata": {
    "collapsed": false,
    "pycharm": {
     "name": "#%%\n"
    }
   }
  },
  {
   "cell_type": "code",
   "execution_count": 249,
   "outputs": [
    {
     "data": {
      "text/plain": "HAEMATOCRIT     0\nHAEMOGLOBINS    0\nERYTHROCYTE     0\nLEUCOCYTE       0\nTHROMBOCYTE     0\nMCH             0\nMCHC            0\nMCV             0\nAGE             0\nSEX             0\nSOURCE          0\ndtype: int64"
     },
     "execution_count": 249,
     "metadata": {},
     "output_type": "execute_result"
    }
   ],
   "source": [
    "df.isnull().sum()"
   ],
   "metadata": {
    "collapsed": false,
    "pycharm": {
     "name": "#%%\n"
    }
   }
  },
  {
   "cell_type": "markdown",
   "source": [
    "## Outlier Detection"
   ],
   "metadata": {
    "collapsed": false,
    "pycharm": {
     "name": "#%% md\n"
    }
   }
  },
  {
   "cell_type": "code",
   "execution_count": 250,
   "outputs": [],
   "source": [
    "def zscore(df, feature):\n",
    "\tmean = df[feature].mean()\n",
    "\tstd = df[feature].std()\n",
    "\tser = df[feature].copy()\n",
    "\tprint(mean, std)\n",
    "\tfor i in range(len(df[feature])):\n",
    "\t\tser[i] = (df[feature][i]-mean)/std\n",
    "\n",
    "\treturn ser"
   ],
   "metadata": {
    "collapsed": false,
    "pycharm": {
     "name": "#%%\n"
    }
   }
  },
  {
   "cell_type": "code",
   "execution_count": 251,
   "outputs": [],
   "source": [
    "def feature_zscore(df, out_feat):\n",
    "\tfor feature in out_feat:\n",
    "\t\tdf[feature+'_zscore'] = zscore(df,feature)"
   ],
   "metadata": {
    "collapsed": false,
    "pycharm": {
     "name": "#%%\n"
    }
   }
  },
  {
   "cell_type": "code",
   "execution_count": 252,
   "outputs": [
    {
     "name": "stdout",
     "output_type": "stream",
     "text": [
      "38.197688123300004 5.97478447451097\n",
      "12.741727107887566 2.07990286509575\n",
      "4.5412601994560164 0.7840912521226004\n",
      "8.718608340888492 5.0490408923144\n",
      "257.5244786944696 113.97236472970721\n",
      "28.234700815956526 2.6726393277033367\n",
      "33.343041704442435 1.2286643342760486\n",
      "84.61294197642763 6.859100642333604\n"
     ]
    }
   ],
   "source": [
    "feature_zscore(df, outlier_features)"
   ],
   "metadata": {
    "collapsed": false,
    "pycharm": {
     "name": "#%%\n"
    }
   }
  },
  {
   "cell_type": "code",
   "execution_count": 253,
   "outputs": [
    {
     "data": {
      "text/plain": "['HAEMATOCRIT_zscore',\n 'HAEMOGLOBINS_zscore',\n 'ERYTHROCYTE_zscore',\n 'LEUCOCYTE_zscore',\n 'THROMBOCYTE_zscore',\n 'MCH_zscore',\n 'MCHC_zscore',\n 'MCV_zscore']"
     },
     "execution_count": 253,
     "metadata": {},
     "output_type": "execute_result"
    }
   ],
   "source": [
    "zscore_features = [feature for feature in df.columns if 'zscore' in feature]\n",
    "zscore_features"
   ],
   "metadata": {
    "collapsed": false,
    "pycharm": {
     "name": "#%%\n"
    }
   }
  },
  {
   "cell_type": "code",
   "execution_count": 254,
   "outputs": [],
   "source": [
    "def out_removal(x):\n",
    "\tif x>3 or x<-3:\n",
    "\t\treturn np.nan\n",
    "\telse:\n",
    "\t\treturn x\n",
    "\n",
    "def feature_outliers(df, zf):\n",
    "\tfor feature in zf:\n",
    "\t\tdf[feature] = df[feature].apply(lambda x: out_removal(x))"
   ],
   "metadata": {
    "collapsed": false,
    "pycharm": {
     "name": "#%%\n"
    }
   }
  },
  {
   "cell_type": "code",
   "execution_count": 255,
   "outputs": [],
   "source": [
    "feature_outliers(df, zscore_features)"
   ],
   "metadata": {
    "collapsed": false,
    "pycharm": {
     "name": "#%%\n"
    }
   }
  },
  {
   "cell_type": "code",
   "execution_count": 256,
   "outputs": [],
   "source": [
    "df.dropna(inplace=True)"
   ],
   "metadata": {
    "collapsed": false,
    "pycharm": {
     "name": "#%%\n"
    }
   }
  },
  {
   "cell_type": "code",
   "execution_count": 257,
   "outputs": [],
   "source": [
    "df.reset_index(inplace=True)"
   ],
   "metadata": {
    "collapsed": false,
    "pycharm": {
     "name": "#%%\n"
    }
   }
  },
  {
   "cell_type": "code",
   "execution_count": 258,
   "outputs": [],
   "source": [
    "df.drop(['index'], axis=1, inplace=True)"
   ],
   "metadata": {
    "collapsed": false,
    "pycharm": {
     "name": "#%%\n"
    }
   }
  },
  {
   "cell_type": "code",
   "execution_count": 259,
   "outputs": [
    {
     "data": {
      "text/plain": "      HAEMATOCRIT  HAEMOGLOBINS  ERYTHROCYTE  LEUCOCYTE  THROMBOCYTE   MCH  \\\n0            35.1          11.8         4.65        6.3          310  25.4   \n1            43.5          14.8         5.39       12.7          334  27.5   \n2            33.5          11.3         4.74       13.2          305  23.8   \n3            39.1          13.7         4.98       10.5          366  27.5   \n4            30.9           9.9         4.23       22.1          333  23.4   \n...           ...           ...          ...        ...          ...   ...   \n4158         32.8          10.4         3.49        8.1           72  29.8   \n4159         33.7          10.8         3.67        6.7           70  29.4   \n4160         33.2          11.2         3.47        7.2          235  32.3   \n4161         31.5          10.4         3.15        9.1          187  33.0   \n4162         33.5          10.9         3.44        5.8          275  31.7   \n\n      MCHC    MCV  AGE SEX SOURCE  HAEMATOCRIT_zscore  HAEMOGLOBINS_zscore  \\\n0     33.6   75.5    1   F    out           -0.518460            -0.452775   \n1     34.0   80.7    1   F    out            0.887448             0.989600   \n2     33.7   70.7    1   F    out           -0.786252            -0.693170   \n3     35.0   78.5    1   F    out            0.151020             0.460730   \n4     32.0   73.0    1   M    out           -1.221414            -1.366279   \n...    ...    ...  ...  ..    ...                 ...                  ...   \n4158  31.7   94.0   92   F     in           -0.903411            -1.125883   \n4159  32.0   91.8   92   F     in           -0.752778            -0.933566   \n4160  33.7   95.7   93   F    out           -0.836463            -0.741250   \n4161  33.0  100.0   98   F     in           -1.120992            -1.125883   \n4162  32.5   97.4   99   F    out           -0.786252            -0.885487   \n\n      ERYTHROCYTE_zscore  LEUCOCYTE_zscore  THROMBOCYTE_zscore  MCH_zscore  \\\n0               0.138683         -0.479023            0.460423   -1.060637   \n1               1.082450          0.788544            0.671001   -0.274897   \n2               0.253465          0.887573            0.416553   -1.659296   \n3               0.559552          0.352818            0.951770   -0.274897   \n4              -0.396969          2.650284            0.662227   -1.808961   \n...                  ...               ...                 ...         ...   \n4158           -1.340737         -0.122520           -1.627802    0.585675   \n4159           -1.111172         -0.399800           -1.645350    0.436011   \n4160           -1.366244         -0.300772           -0.197631    1.521080   \n4161           -1.774360          0.075537           -0.618786    1.782994   \n4162           -1.404505         -0.578052            0.153331    1.296583   \n\n      MCHC_zscore  MCV_zscore  \n0        0.209136   -1.328591  \n1        0.534693   -0.570474  \n2        0.290525   -2.028392  \n3        1.348585   -0.891216  \n4       -1.093091   -1.693071  \n...           ...         ...  \n4158    -1.337258    1.368555  \n4159    -1.093091    1.047813  \n4160     0.290525    1.616401  \n4161    -0.279199    2.243305  \n4162    -0.686145    1.864247  \n\n[4163 rows x 19 columns]",
      "text/html": "<div>\n<style scoped>\n    .dataframe tbody tr th:only-of-type {\n        vertical-align: middle;\n    }\n\n    .dataframe tbody tr th {\n        vertical-align: top;\n    }\n\n    .dataframe thead th {\n        text-align: right;\n    }\n</style>\n<table border=\"1\" class=\"dataframe\">\n  <thead>\n    <tr style=\"text-align: right;\">\n      <th></th>\n      <th>HAEMATOCRIT</th>\n      <th>HAEMOGLOBINS</th>\n      <th>ERYTHROCYTE</th>\n      <th>LEUCOCYTE</th>\n      <th>THROMBOCYTE</th>\n      <th>MCH</th>\n      <th>MCHC</th>\n      <th>MCV</th>\n      <th>AGE</th>\n      <th>SEX</th>\n      <th>SOURCE</th>\n      <th>HAEMATOCRIT_zscore</th>\n      <th>HAEMOGLOBINS_zscore</th>\n      <th>ERYTHROCYTE_zscore</th>\n      <th>LEUCOCYTE_zscore</th>\n      <th>THROMBOCYTE_zscore</th>\n      <th>MCH_zscore</th>\n      <th>MCHC_zscore</th>\n      <th>MCV_zscore</th>\n    </tr>\n  </thead>\n  <tbody>\n    <tr>\n      <th>0</th>\n      <td>35.1</td>\n      <td>11.8</td>\n      <td>4.65</td>\n      <td>6.3</td>\n      <td>310</td>\n      <td>25.4</td>\n      <td>33.6</td>\n      <td>75.5</td>\n      <td>1</td>\n      <td>F</td>\n      <td>out</td>\n      <td>-0.518460</td>\n      <td>-0.452775</td>\n      <td>0.138683</td>\n      <td>-0.479023</td>\n      <td>0.460423</td>\n      <td>-1.060637</td>\n      <td>0.209136</td>\n      <td>-1.328591</td>\n    </tr>\n    <tr>\n      <th>1</th>\n      <td>43.5</td>\n      <td>14.8</td>\n      <td>5.39</td>\n      <td>12.7</td>\n      <td>334</td>\n      <td>27.5</td>\n      <td>34.0</td>\n      <td>80.7</td>\n      <td>1</td>\n      <td>F</td>\n      <td>out</td>\n      <td>0.887448</td>\n      <td>0.989600</td>\n      <td>1.082450</td>\n      <td>0.788544</td>\n      <td>0.671001</td>\n      <td>-0.274897</td>\n      <td>0.534693</td>\n      <td>-0.570474</td>\n    </tr>\n    <tr>\n      <th>2</th>\n      <td>33.5</td>\n      <td>11.3</td>\n      <td>4.74</td>\n      <td>13.2</td>\n      <td>305</td>\n      <td>23.8</td>\n      <td>33.7</td>\n      <td>70.7</td>\n      <td>1</td>\n      <td>F</td>\n      <td>out</td>\n      <td>-0.786252</td>\n      <td>-0.693170</td>\n      <td>0.253465</td>\n      <td>0.887573</td>\n      <td>0.416553</td>\n      <td>-1.659296</td>\n      <td>0.290525</td>\n      <td>-2.028392</td>\n    </tr>\n    <tr>\n      <th>3</th>\n      <td>39.1</td>\n      <td>13.7</td>\n      <td>4.98</td>\n      <td>10.5</td>\n      <td>366</td>\n      <td>27.5</td>\n      <td>35.0</td>\n      <td>78.5</td>\n      <td>1</td>\n      <td>F</td>\n      <td>out</td>\n      <td>0.151020</td>\n      <td>0.460730</td>\n      <td>0.559552</td>\n      <td>0.352818</td>\n      <td>0.951770</td>\n      <td>-0.274897</td>\n      <td>1.348585</td>\n      <td>-0.891216</td>\n    </tr>\n    <tr>\n      <th>4</th>\n      <td>30.9</td>\n      <td>9.9</td>\n      <td>4.23</td>\n      <td>22.1</td>\n      <td>333</td>\n      <td>23.4</td>\n      <td>32.0</td>\n      <td>73.0</td>\n      <td>1</td>\n      <td>M</td>\n      <td>out</td>\n      <td>-1.221414</td>\n      <td>-1.366279</td>\n      <td>-0.396969</td>\n      <td>2.650284</td>\n      <td>0.662227</td>\n      <td>-1.808961</td>\n      <td>-1.093091</td>\n      <td>-1.693071</td>\n    </tr>\n    <tr>\n      <th>...</th>\n      <td>...</td>\n      <td>...</td>\n      <td>...</td>\n      <td>...</td>\n      <td>...</td>\n      <td>...</td>\n      <td>...</td>\n      <td>...</td>\n      <td>...</td>\n      <td>...</td>\n      <td>...</td>\n      <td>...</td>\n      <td>...</td>\n      <td>...</td>\n      <td>...</td>\n      <td>...</td>\n      <td>...</td>\n      <td>...</td>\n      <td>...</td>\n    </tr>\n    <tr>\n      <th>4158</th>\n      <td>32.8</td>\n      <td>10.4</td>\n      <td>3.49</td>\n      <td>8.1</td>\n      <td>72</td>\n      <td>29.8</td>\n      <td>31.7</td>\n      <td>94.0</td>\n      <td>92</td>\n      <td>F</td>\n      <td>in</td>\n      <td>-0.903411</td>\n      <td>-1.125883</td>\n      <td>-1.340737</td>\n      <td>-0.122520</td>\n      <td>-1.627802</td>\n      <td>0.585675</td>\n      <td>-1.337258</td>\n      <td>1.368555</td>\n    </tr>\n    <tr>\n      <th>4159</th>\n      <td>33.7</td>\n      <td>10.8</td>\n      <td>3.67</td>\n      <td>6.7</td>\n      <td>70</td>\n      <td>29.4</td>\n      <td>32.0</td>\n      <td>91.8</td>\n      <td>92</td>\n      <td>F</td>\n      <td>in</td>\n      <td>-0.752778</td>\n      <td>-0.933566</td>\n      <td>-1.111172</td>\n      <td>-0.399800</td>\n      <td>-1.645350</td>\n      <td>0.436011</td>\n      <td>-1.093091</td>\n      <td>1.047813</td>\n    </tr>\n    <tr>\n      <th>4160</th>\n      <td>33.2</td>\n      <td>11.2</td>\n      <td>3.47</td>\n      <td>7.2</td>\n      <td>235</td>\n      <td>32.3</td>\n      <td>33.7</td>\n      <td>95.7</td>\n      <td>93</td>\n      <td>F</td>\n      <td>out</td>\n      <td>-0.836463</td>\n      <td>-0.741250</td>\n      <td>-1.366244</td>\n      <td>-0.300772</td>\n      <td>-0.197631</td>\n      <td>1.521080</td>\n      <td>0.290525</td>\n      <td>1.616401</td>\n    </tr>\n    <tr>\n      <th>4161</th>\n      <td>31.5</td>\n      <td>10.4</td>\n      <td>3.15</td>\n      <td>9.1</td>\n      <td>187</td>\n      <td>33.0</td>\n      <td>33.0</td>\n      <td>100.0</td>\n      <td>98</td>\n      <td>F</td>\n      <td>in</td>\n      <td>-1.120992</td>\n      <td>-1.125883</td>\n      <td>-1.774360</td>\n      <td>0.075537</td>\n      <td>-0.618786</td>\n      <td>1.782994</td>\n      <td>-0.279199</td>\n      <td>2.243305</td>\n    </tr>\n    <tr>\n      <th>4162</th>\n      <td>33.5</td>\n      <td>10.9</td>\n      <td>3.44</td>\n      <td>5.8</td>\n      <td>275</td>\n      <td>31.7</td>\n      <td>32.5</td>\n      <td>97.4</td>\n      <td>99</td>\n      <td>F</td>\n      <td>out</td>\n      <td>-0.786252</td>\n      <td>-0.885487</td>\n      <td>-1.404505</td>\n      <td>-0.578052</td>\n      <td>0.153331</td>\n      <td>1.296583</td>\n      <td>-0.686145</td>\n      <td>1.864247</td>\n    </tr>\n  </tbody>\n</table>\n<p>4163 rows × 19 columns</p>\n</div>"
     },
     "execution_count": 259,
     "metadata": {},
     "output_type": "execute_result"
    }
   ],
   "source": [
    "df"
   ],
   "metadata": {
    "collapsed": false,
    "pycharm": {
     "name": "#%%\n"
    }
   }
  },
  {
   "cell_type": "code",
   "execution_count": 260,
   "outputs": [
    {
     "data": {
      "text/plain": "HAEMATOCRIT            0\nHAEMOGLOBINS           0\nERYTHROCYTE            0\nLEUCOCYTE              0\nTHROMBOCYTE            0\nMCH                    0\nMCHC                   0\nMCV                    0\nAGE                    0\nSEX                    0\nSOURCE                 0\nHAEMATOCRIT_zscore     0\nHAEMOGLOBINS_zscore    0\nERYTHROCYTE_zscore     0\nLEUCOCYTE_zscore       0\nTHROMBOCYTE_zscore     0\nMCH_zscore             0\nMCHC_zscore            0\nMCV_zscore             0\ndtype: int64"
     },
     "execution_count": 260,
     "metadata": {},
     "output_type": "execute_result"
    }
   ],
   "source": [
    "df.isnull().sum()"
   ],
   "metadata": {
    "collapsed": false,
    "pycharm": {
     "name": "#%%\n"
    }
   }
  },
  {
   "cell_type": "code",
   "execution_count": 261,
   "outputs": [
    {
     "name": "stderr",
     "output_type": "stream",
     "text": [
      "/home/rohit/anaconda3/lib/python3.9/site-packages/seaborn/_decorators.py:36: FutureWarning: Pass the following variable as a keyword arg: x. From version 0.12, the only valid positional argument will be `data`, and passing other arguments without an explicit keyword will result in an error or misinterpretation.\n",
      "  warnings.warn(\n"
     ]
    },
    {
     "data": {
      "text/plain": "<Figure size 432x288 with 1 Axes>",
      "image/png": "[encoded data removed]"
     },
     "metadata": {
      "needs_background": "light"
     },
     "output_type": "display_data"
    },
    {
     "name": "stderr",
     "output_type": "stream",
     "text": [
      "/home/rohit/anaconda3/lib/python3.9/site-packages/seaborn/_decorators.py:36: FutureWarning: Pass the following variable as a keyword arg: x. From version 0.12, the only valid positional argument will be `data`, and passing other arguments without an explicit keyword will result in an error or misinterpretation.\n",
      "  warnings.warn(\n"
     ]
    },
    {
     "data": {
      "text/plain": "<Figure size 432x288 with 1 Axes>",
      "image/png": "[encoded data removed]"
     },
     "metadata": {
      "needs_background": "light"
     },
     "output_type": "display_data"
    },
    {
     "name": "stderr",
     "output_type": "stream",
     "text": [
      "/home/rohit/anaconda3/lib/python3.9/site-packages/seaborn/_decorators.py:36: FutureWarning: Pass the following variable as a keyword arg: x. From version 0.12, the only valid positional argument will be `data`, and passing other arguments without an explicit keyword will result in an error or misinterpretation.\n",
      "  warnings.warn(\n"
     ]
    },
    {
     "data": {
      "text/plain": "<Figure size 432x288 with 1 Axes>",
      "image/png": "[encoded data removed]"
     },
     "metadata": {
      "needs_background": "light"
     },
     "output_type": "display_data"
    },
    {
     "name": "stderr",
     "output_type": "stream",
     "text": [
      "/home/rohit/anaconda3/lib/python3.9/site-packages/seaborn/_decorators.py:36: FutureWarning: Pass the following variable as a keyword arg: x. From version 0.12, the only valid positional argument will be `data`, and passing other arguments without an explicit keyword will result in an error or misinterpretation.\n",
      "  warnings.warn(\n"
     ]
    },
    {
     "data": {
      "text/plain": "<Figure size 432x288 with 1 Axes>",
      "image/png": "[encoded data removed]"
     },
     "metadata": {
      "needs_background": "light"
     },
     "output_type": "display_data"
    },
    {
     "name": "stderr",
     "output_type": "stream",
     "text": [
      "/home/rohit/anaconda3/lib/python3.9/site-packages/seaborn/_decorators.py:36: FutureWarning: Pass the following variable as a keyword arg: x. From version 0.12, the only valid positional argument will be `data`, and passing other arguments without an explicit keyword will result in an error or misinterpretation.\n",
      "  warnings.warn(\n"
     ]
    },
    {
     "data": {
      "text/plain": "<Figure size 432x288 with 1 Axes>",
      "image/png": "[encoded data removed]"
     },
     "metadata": {
      "needs_background": "light"
     },
     "output_type": "display_data"
    },
    {
     "name": "stderr",
     "output_type": "stream",
     "text": [
      "/home/rohit/anaconda3/lib/python3.9/site-packages/seaborn/_decorators.py:36: FutureWarning: Pass the following variable as a keyword arg: x. From version 0.12, the only valid positional argument will be `data`, and passing other arguments without an explicit keyword will result in an error or misinterpretation.\n",
      "  warnings.warn(\n"
     ]
    },
    {
     "data": {
      "text/plain": "<Figure size 432x288 with 1 Axes>",
      "image/png": "[encoded data removed]"
     },
     "metadata": {
      "needs_background": "light"
     },
     "output_type": "display_data"
    },
    {
     "name": "stderr",
     "output_type": "stream",
     "text": [
      "/home/rohit/anaconda3/lib/python3.9/site-packages/seaborn/_decorators.py:36: FutureWarning: Pass the following variable as a keyword arg: x. From version 0.12, the only valid positional argument will be `data`, and passing other arguments without an explicit keyword will result in an error or misinterpretation.\n",
      "  warnings.warn(\n"
     ]
    },
    {
     "data": {
      "text/plain": "<Figure size 432x288 with 1 Axes>",
      "image/png": "[encoded data removed]"
     },
     "metadata": {
      "needs_background": "light"
     },
     "output_type": "display_data"
    },
    {
     "name": "stderr",
     "output_type": "stream",
     "text": [
      "/home/rohit/anaconda3/lib/python3.9/site-packages/seaborn/_decorators.py:36: FutureWarning: Pass the following variable as a keyword arg: x. From version 0.12, the only valid positional argument will be `data`, and passing other arguments without an explicit keyword will result in an error or misinterpretation.\n",
      "  warnings.warn(\n"
     ]
    },
    {
     "data": {
      "text/plain": "<Figure size 432x288 with 1 Axes>",
      "image/png": "[encoded data removed]"
     },
     "metadata": {
      "needs_background": "light"
     },
     "output_type": "display_data"
    },
    {
     "name": "stderr",
     "output_type": "stream",
     "text": [
      "/home/rohit/anaconda3/lib/python3.9/site-packages/seaborn/_decorators.py:36: FutureWarning: Pass the following variable as a keyword arg: x. From version 0.12, the only valid positional argument will be `data`, and passing other arguments without an explicit keyword will result in an error or misinterpretation.\n",
      "  warnings.warn(\n"
     ]
    },
    {
     "data": {
      "text/plain": "<Figure size 432x288 with 1 Axes>",
      "image/png": "[encoded data removed]"
     },
     "metadata": {
      "needs_background": "light"
     },
     "output_type": "display_data"
    }
   ],
   "source": [
    "data = df.copy()\n",
    "for feature in numerical_features:\n",
    "    sns.boxplot(data[feature])\n",
    "    plt.show()"
   ],
   "metadata": {
    "collapsed": false,
    "pycharm": {
     "name": "#%%\n"
    }
   }
  },
  {
   "cell_type": "markdown",
   "source": [
    "## Model Building"
   ],
   "metadata": {
    "collapsed": false,
    "pycharm": {
     "name": "#%% md\n"
    }
   }
  },
  {
   "cell_type": "code",
   "execution_count": 262,
   "outputs": [],
   "source": [
    "categorical_features = [feature for feature in df.columns if df[feature].dtype == 'O']"
   ],
   "metadata": {
    "collapsed": false,
    "pycharm": {
     "name": "#%%\n"
    }
   }
  },
  {
   "cell_type": "code",
   "execution_count": 263,
   "outputs": [
    {
     "data": {
      "text/plain": "     SEX SOURCE\n0      F    out\n1      F    out\n2      F    out\n3      F    out\n4      M    out\n...   ..    ...\n4158   F     in\n4159   F     in\n4160   F    out\n4161   F     in\n4162   F    out\n\n[4163 rows x 2 columns]",
      "text/html": "<div>\n<style scoped>\n    .dataframe tbody tr th:only-of-type {\n        vertical-align: middle;\n    }\n\n    .dataframe tbody tr th {\n        vertical-align: top;\n    }\n\n    .dataframe thead th {\n        text-align: right;\n    }\n</style>\n<table border=\"1\" class=\"dataframe\">\n  <thead>\n    <tr style=\"text-align: right;\">\n      <th></th>\n      <th>SEX</th>\n      <th>SOURCE</th>\n    </tr>\n  </thead>\n  <tbody>\n    <tr>\n      <th>0</th>\n      <td>F</td>\n      <td>out</td>\n    </tr>\n    <tr>\n      <th>1</th>\n      <td>F</td>\n      <td>out</td>\n    </tr>\n    <tr>\n      <th>2</th>\n      <td>F</td>\n      <td>out</td>\n    </tr>\n    <tr>\n      <th>3</th>\n      <td>F</td>\n      <td>out</td>\n    </tr>\n    <tr>\n      <th>4</th>\n      <td>M</td>\n      <td>out</td>\n    </tr>\n    <tr>\n      <th>...</th>\n      <td>...</td>\n      <td>...</td>\n    </tr>\n    <tr>\n      <th>4158</th>\n      <td>F</td>\n      <td>in</td>\n    </tr>\n    <tr>\n      <th>4159</th>\n      <td>F</td>\n      <td>in</td>\n    </tr>\n    <tr>\n      <th>4160</th>\n      <td>F</td>\n      <td>out</td>\n    </tr>\n    <tr>\n      <th>4161</th>\n      <td>F</td>\n      <td>in</td>\n    </tr>\n    <tr>\n      <th>4162</th>\n      <td>F</td>\n      <td>out</td>\n    </tr>\n  </tbody>\n</table>\n<p>4163 rows × 2 columns</p>\n</div>"
     },
     "execution_count": 263,
     "metadata": {},
     "output_type": "execute_result"
    }
   ],
   "source": [
    "df[categorical_features]"
   ],
   "metadata": {
    "collapsed": false,
    "pycharm": {
     "name": "#%%\n"
    }
   }
  },
  {
   "cell_type": "code",
   "execution_count": 264,
   "outputs": [],
   "source": [
    "from sklearn.preprocessing import LabelEncoder"
   ],
   "metadata": {
    "collapsed": false,
    "pycharm": {
     "name": "#%%\n"
    }
   }
  },
  {
   "cell_type": "code",
   "execution_count": 265,
   "outputs": [],
   "source": [
    "le = LabelEncoder()"
   ],
   "metadata": {
    "collapsed": false,
    "pycharm": {
     "name": "#%%\n"
    }
   }
  },
  {
   "cell_type": "code",
   "execution_count": 266,
   "outputs": [],
   "source": [
    "df[categorical_features[0]] = le.fit_transform(df[categorical_features[0]])\n",
    "df[categorical_features[1]] = le.fit_transform(df[categorical_features[1]])"
   ],
   "metadata": {
    "collapsed": false,
    "pycharm": {
     "name": "#%%\n"
    }
   }
  },
  {
   "cell_type": "code",
   "execution_count": 267,
   "outputs": [
    {
     "data": {
      "text/plain": "      HAEMATOCRIT  HAEMOGLOBINS  ERYTHROCYTE  LEUCOCYTE  THROMBOCYTE   MCH  \\\n0            35.1          11.8         4.65        6.3          310  25.4   \n1            43.5          14.8         5.39       12.7          334  27.5   \n2            33.5          11.3         4.74       13.2          305  23.8   \n3            39.1          13.7         4.98       10.5          366  27.5   \n4            30.9           9.9         4.23       22.1          333  23.4   \n...           ...           ...          ...        ...          ...   ...   \n4158         32.8          10.4         3.49        8.1           72  29.8   \n4159         33.7          10.8         3.67        6.7           70  29.4   \n4160         33.2          11.2         3.47        7.2          235  32.3   \n4161         31.5          10.4         3.15        9.1          187  33.0   \n4162         33.5          10.9         3.44        5.8          275  31.7   \n\n      MCHC    MCV  AGE  SEX  SOURCE  HAEMATOCRIT_zscore  HAEMOGLOBINS_zscore  \\\n0     33.6   75.5    1    0       1           -0.518460            -0.452775   \n1     34.0   80.7    1    0       1            0.887448             0.989600   \n2     33.7   70.7    1    0       1           -0.786252            -0.693170   \n3     35.0   78.5    1    0       1            0.151020             0.460730   \n4     32.0   73.0    1    1       1           -1.221414            -1.366279   \n...    ...    ...  ...  ...     ...                 ...                  ...   \n4158  31.7   94.0   92    0       0           -0.903411            -1.125883   \n4159  32.0   91.8   92    0       0           -0.752778            -0.933566   \n4160  33.7   95.7   93    0       1           -0.836463            -0.741250   \n4161  33.0  100.0   98    0       0           -1.120992            -1.125883   \n4162  32.5   97.4   99    0       1           -0.786252            -0.885487   \n\n      ERYTHROCYTE_zscore  LEUCOCYTE_zscore  THROMBOCYTE_zscore  MCH_zscore  \\\n0               0.138683         -0.479023            0.460423   -1.060637   \n1               1.082450          0.788544            0.671001   -0.274897   \n2               0.253465          0.887573            0.416553   -1.659296   \n3               0.559552          0.352818            0.951770   -0.274897   \n4              -0.396969          2.650284            0.662227   -1.808961   \n...                  ...               ...                 ...         ...   \n4158           -1.340737         -0.122520           -1.627802    0.585675   \n4159           -1.111172         -0.399800           -1.645350    0.436011   \n4160           -1.366244         -0.300772           -0.197631    1.521080   \n4161           -1.774360          0.075537           -0.618786    1.782994   \n4162           -1.404505         -0.578052            0.153331    1.296583   \n\n      MCHC_zscore  MCV_zscore  \n0        0.209136   -1.328591  \n1        0.534693   -0.570474  \n2        0.290525   -2.028392  \n3        1.348585   -0.891216  \n4       -1.093091   -1.693071  \n...           ...         ...  \n4158    -1.337258    1.368555  \n4159    -1.093091    1.047813  \n4160     0.290525    1.616401  \n4161    -0.279199    2.243305  \n4162    -0.686145    1.864247  \n\n[4163 rows x 19 columns]",
      "text/html": "<div>\n<style scoped>\n    .dataframe tbody tr th:only-of-type {\n        vertical-align: middle;\n    }\n\n    .dataframe tbody tr th {\n        vertical-align: top;\n    }\n\n    .dataframe thead th {\n        text-align: right;\n    }\n</style>\n<table border=\"1\" class=\"dataframe\">\n  <thead>\n    <tr style=\"text-align: right;\">\n      <th></th>\n      <th>HAEMATOCRIT</th>\n      <th>HAEMOGLOBINS</th>\n      <th>ERYTHROCYTE</th>\n      <th>LEUCOCYTE</th>\n      <th>THROMBOCYTE</th>\n      <th>MCH</th>\n      <th>MCHC</th>\n      <th>MCV</th>\n      <th>AGE</th>\n      <th>SEX</th>\n      <th>SOURCE</th>\n      <th>HAEMATOCRIT_zscore</th>\n      <th>HAEMOGLOBINS_zscore</th>\n      <th>ERYTHROCYTE_zscore</th>\n      <th>LEUCOCYTE_zscore</th>\n      <th>THROMBOCYTE_zscore</th>\n      <th>MCH_zscore</th>\n      <th>MCHC_zscore</th>\n      <th>MCV_zscore</th>\n    </tr>\n  </thead>\n  <tbody>\n    <tr>\n      <th>0</th>\n      <td>35.1</td>\n      <td>11.8</td>\n      <td>4.65</td>\n      <td>6.3</td>\n      <td>310</td>\n      <td>25.4</td>\n      <td>33.6</td>\n      <td>75.5</td>\n      <td>1</td>\n      <td>0</td>\n      <td>1</td>\n      <td>-0.518460</td>\n      <td>-0.452775</td>\n      <td>0.138683</td>\n      <td>-0.479023</td>\n      <td>0.460423</td>\n      <td>-1.060637</td>\n      <td>0.209136</td>\n      <td>-1.328591</td>\n    </tr>\n    <tr>\n      <th>1</th>\n      <td>43.5</td>\n      <td>14.8</td>\n      <td>5.39</td>\n      <td>12.7</td>\n      <td>334</td>\n      <td>27.5</td>\n      <td>34.0</td>\n      <td>80.7</td>\n      <td>1</td>\n      <td>0</td>\n      <td>1</td>\n      <td>0.887448</td>\n      <td>0.989600</td>\n      <td>1.082450</td>\n      <td>0.788544</td>\n      <td>0.671001</td>\n      <td>-0.274897</td>\n      <td>0.534693</td>\n      <td>-0.570474</td>\n    </tr>\n    <tr>\n      <th>2</th>\n      <td>33.5</td>\n      <td>11.3</td>\n      <td>4.74</td>\n      <td>13.2</td>\n      <td>305</td>\n      <td>23.8</td>\n      <td>33.7</td>\n      <td>70.7</td>\n      <td>1</td>\n      <td>0</td>\n      <td>1</td>\n      <td>-0.786252</td>\n      <td>-0.693170</td>\n      <td>0.253465</td>\n      <td>0.887573</td>\n      <td>0.416553</td>\n      <td>-1.659296</td>\n      <td>0.290525</td>\n      <td>-2.028392</td>\n    </tr>\n    <tr>\n      <th>3</th>\n      <td>39.1</td>\n      <td>13.7</td>\n      <td>4.98</td>\n      <td>10.5</td>\n      <td>366</td>\n      <td>27.5</td>\n      <td>35.0</td>\n      <td>78.5</td>\n      <td>1</td>\n      <td>0</td>\n      <td>1</td>\n      <td>0.151020</td>\n      <td>0.460730</td>\n      <td>0.559552</td>\n      <td>0.352818</td>\n      <td>0.951770</td>\n      <td>-0.274897</td>\n      <td>1.348585</td>\n      <td>-0.891216</td>\n    </tr>\n    <tr>\n      <th>4</th>\n      <td>30.9</td>\n      <td>9.9</td>\n      <td>4.23</td>\n      <td>22.1</td>\n      <td>333</td>\n      <td>23.4</td>\n      <td>32.0</td>\n      <td>73.0</td>\n      <td>1</td>\n      <td>1</td>\n      <td>1</td>\n      <td>-1.221414</td>\n      <td>-1.366279</td>\n      <td>-0.396969</td>\n      <td>2.650284</td>\n      <td>0.662227</td>\n      <td>-1.808961</td>\n      <td>-1.093091</td>\n      <td>-1.693071</td>\n    </tr>\n    <tr>\n      <th>...</th>\n      <td>...</td>\n      <td>...</td>\n      <td>...</td>\n      <td>...</td>\n      <td>...</td>\n      <td>...</td>\n      <td>...</td>\n      <td>...</td>\n      <td>...</td>\n      <td>...</td>\n      <td>...</td>\n      <td>...</td>\n      <td>...</td>\n      <td>...</td>\n      <td>...</td>\n      <td>...</td>\n      <td>...</td>\n      <td>...</td>\n      <td>...</td>\n    </tr>\n    <tr>\n      <th>4158</th>\n      <td>32.8</td>\n      <td>10.4</td>\n      <td>3.49</td>\n      <td>8.1</td>\n      <td>72</td>\n      <td>29.8</td>\n      <td>31.7</td>\n      <td>94.0</td>\n      <td>92</td>\n      <td>0</td>\n      <td>0</td>\n      <td>-0.903411</td>\n      <td>-1.125883</td>\n      <td>-1.340737</td>\n      <td>-0.122520</td>\n      <td>-1.627802</td>\n      <td>0.585675</td>\n      <td>-1.337258</td>\n      <td>1.368555</td>\n    </tr>\n    <tr>\n      <th>4159</th>\n      <td>33.7</td>\n      <td>10.8</td>\n      <td>3.67</td>\n      <td>6.7</td>\n      <td>70</td>\n      <td>29.4</td>\n      <td>32.0</td>\n      <td>91.8</td>\n      <td>92</td>\n      <td>0</td>\n      <td>0</td>\n      <td>-0.752778</td>\n      <td>-0.933566</td>\n      <td>-1.111172</td>\n      <td>-0.399800</td>\n      <td>-1.645350</td>\n      <td>0.436011</td>\n      <td>-1.093091</td>\n      <td>1.047813</td>\n    </tr>\n    <tr>\n      <th>4160</th>\n      <td>33.2</td>\n      <td>11.2</td>\n      <td>3.47</td>\n      <td>7.2</td>\n      <td>235</td>\n      <td>32.3</td>\n      <td>33.7</td>\n      <td>95.7</td>\n      <td>93</td>\n      <td>0</td>\n      <td>1</td>\n      <td>-0.836463</td>\n      <td>-0.741250</td>\n      <td>-1.366244</td>\n      <td>-0.300772</td>\n      <td>-0.197631</td>\n      <td>1.521080</td>\n      <td>0.290525</td>\n      <td>1.616401</td>\n    </tr>\n    <tr>\n      <th>4161</th>\n      <td>31.5</td>\n      <td>10.4</td>\n      <td>3.15</td>\n      <td>9.1</td>\n      <td>187</td>\n      <td>33.0</td>\n      <td>33.0</td>\n      <td>100.0</td>\n      <td>98</td>\n      <td>0</td>\n      <td>0</td>\n      <td>-1.120992</td>\n      <td>-1.125883</td>\n      <td>-1.774360</td>\n      <td>0.075537</td>\n      <td>-0.618786</td>\n      <td>1.782994</td>\n      <td>-0.279199</td>\n      <td>2.243305</td>\n    </tr>\n    <tr>\n      <th>4162</th>\n      <td>33.5</td>\n      <td>10.9</td>\n      <td>3.44</td>\n      <td>5.8</td>\n      <td>275</td>\n      <td>31.7</td>\n      <td>32.5</td>\n      <td>97.4</td>\n      <td>99</td>\n      <td>0</td>\n      <td>1</td>\n      <td>-0.786252</td>\n      <td>-0.885487</td>\n      <td>-1.404505</td>\n      <td>-0.578052</td>\n      <td>0.153331</td>\n      <td>1.296583</td>\n      <td>-0.686145</td>\n      <td>1.864247</td>\n    </tr>\n  </tbody>\n</table>\n<p>4163 rows × 19 columns</p>\n</div>"
     },
     "execution_count": 267,
     "metadata": {},
     "output_type": "execute_result"
    }
   ],
   "source": [
    "df"
   ],
   "metadata": {
    "collapsed": false,
    "pycharm": {
     "name": "#%%\n"
    }
   }
  },
  {
   "cell_type": "code",
   "execution_count": 270,
   "outputs": [],
   "source": [
    "X = df.iloc[:, :10]\n",
    "y = df.iloc[:, 10]"
   ],
   "metadata": {
    "collapsed": false,
    "pycharm": {
     "name": "#%%\n"
    }
   }
  },
  {
   "cell_type": "code",
   "execution_count": 271,
   "outputs": [
    {
     "data": {
      "text/plain": "      HAEMATOCRIT  HAEMOGLOBINS  ERYTHROCYTE  LEUCOCYTE  THROMBOCYTE   MCH  \\\n0            35.1          11.8         4.65        6.3          310  25.4   \n1            43.5          14.8         5.39       12.7          334  27.5   \n2            33.5          11.3         4.74       13.2          305  23.8   \n3            39.1          13.7         4.98       10.5          366  27.5   \n4            30.9           9.9         4.23       22.1          333  23.4   \n...           ...           ...          ...        ...          ...   ...   \n4158         32.8          10.4         3.49        8.1           72  29.8   \n4159         33.7          10.8         3.67        6.7           70  29.4   \n4160         33.2          11.2         3.47        7.2          235  32.3   \n4161         31.5          10.4         3.15        9.1          187  33.0   \n4162         33.5          10.9         3.44        5.8          275  31.7   \n\n      MCHC    MCV  AGE  SEX  \n0     33.6   75.5    1    0  \n1     34.0   80.7    1    0  \n2     33.7   70.7    1    0  \n3     35.0   78.5    1    0  \n4     32.0   73.0    1    1  \n...    ...    ...  ...  ...  \n4158  31.7   94.0   92    0  \n4159  32.0   91.8   92    0  \n4160  33.7   95.7   93    0  \n4161  33.0  100.0   98    0  \n4162  32.5   97.4   99    0  \n\n[4163 rows x 10 columns]",
      "text/html": "<div>\n<style scoped>\n    .dataframe tbody tr th:only-of-type {\n        vertical-align: middle;\n    }\n\n    .dataframe tbody tr th {\n        vertical-align: top;\n    }\n\n    .dataframe thead th {\n        text-align: right;\n    }\n</style>\n<table border=\"1\" class=\"dataframe\">\n  <thead>\n    <tr style=\"text-align: right;\">\n      <th></th>\n      <th>HAEMATOCRIT</th>\n      <th>HAEMOGLOBINS</th>\n      <th>ERYTHROCYTE</th>\n      <th>LEUCOCYTE</th>\n      <th>THROMBOCYTE</th>\n      <th>MCH</th>\n      <th>MCHC</th>\n      <th>MCV</th>\n      <th>AGE</th>\n      <th>SEX</th>\n    </tr>\n  </thead>\n  <tbody>\n    <tr>\n      <th>0</th>\n      <td>35.1</td>\n      <td>11.8</td>\n      <td>4.65</td>\n      <td>6.3</td>\n      <td>310</td>\n      <td>25.4</td>\n      <td>33.6</td>\n      <td>75.5</td>\n      <td>1</td>\n      <td>0</td>\n    </tr>\n    <tr>\n      <th>1</th>\n      <td>43.5</td>\n      <td>14.8</td>\n      <td>5.39</td>\n      <td>12.7</td>\n      <td>334</td>\n      <td>27.5</td>\n      <td>34.0</td>\n      <td>80.7</td>\n      <td>1</td>\n      <td>0</td>\n    </tr>\n    <tr>\n      <th>2</th>\n      <td>33.5</td>\n      <td>11.3</td>\n      <td>4.74</td>\n      <td>13.2</td>\n      <td>305</td>\n      <td>23.8</td>\n      <td>33.7</td>\n      <td>70.7</td>\n      <td>1</td>\n      <td>0</td>\n    </tr>\n    <tr>\n      <th>3</th>\n      <td>39.1</td>\n      <td>13.7</td>\n      <td>4.98</td>\n      <td>10.5</td>\n      <td>366</td>\n      <td>27.5</td>\n      <td>35.0</td>\n      <td>78.5</td>\n      <td>1</td>\n      <td>0</td>\n    </tr>\n    <tr>\n      <th>4</th>\n      <td>30.9</td>\n      <td>9.9</td>\n      <td>4.23</td>\n      <td>22.1</td>\n      <td>333</td>\n      <td>23.4</td>\n      <td>32.0</td>\n      <td>73.0</td>\n      <td>1</td>\n      <td>1</td>\n    </tr>\n    <tr>\n      <th>...</th>\n      <td>...</td>\n      <td>...</td>\n      <td>...</td>\n      <td>...</td>\n      <td>...</td>\n      <td>...</td>\n      <td>...</td>\n      <td>...</td>\n      <td>...</td>\n      <td>...</td>\n    </tr>\n    <tr>\n      <th>4158</th>\n      <td>32.8</td>\n      <td>10.4</td>\n      <td>3.49</td>\n      <td>8.1</td>\n      <td>72</td>\n      <td>29.8</td>\n      <td>31.7</td>\n      <td>94.0</td>\n      <td>92</td>\n      <td>0</td>\n    </tr>\n    <tr>\n      <th>4159</th>\n      <td>33.7</td>\n      <td>10.8</td>\n      <td>3.67</td>\n      <td>6.7</td>\n      <td>70</td>\n      <td>29.4</td>\n      <td>32.0</td>\n      <td>91.8</td>\n      <td>92</td>\n      <td>0</td>\n    </tr>\n    <tr>\n      <th>4160</th>\n      <td>33.2</td>\n      <td>11.2</td>\n      <td>3.47</td>\n      <td>7.2</td>\n      <td>235</td>\n      <td>32.3</td>\n      <td>33.7</td>\n      <td>95.7</td>\n      <td>93</td>\n      <td>0</td>\n    </tr>\n    <tr>\n      <th>4161</th>\n      <td>31.5</td>\n      <td>10.4</td>\n      <td>3.15</td>\n      <td>9.1</td>\n      <td>187</td>\n      <td>33.0</td>\n      <td>33.0</td>\n      <td>100.0</td>\n      <td>98</td>\n      <td>0</td>\n    </tr>\n    <tr>\n      <th>4162</th>\n      <td>33.5</td>\n      <td>10.9</td>\n      <td>3.44</td>\n      <td>5.8</td>\n      <td>275</td>\n      <td>31.7</td>\n      <td>32.5</td>\n      <td>97.4</td>\n      <td>99</td>\n      <td>0</td>\n    </tr>\n  </tbody>\n</table>\n<p>4163 rows × 10 columns</p>\n</div>"
     },
     "execution_count": 271,
     "metadata": {},
     "output_type": "execute_result"
    }
   ],
   "source": [
    "X"
   ],
   "metadata": {
    "collapsed": false,
    "pycharm": {
     "name": "#%%\n"
    }
   }
  },
  {
   "cell_type": "code",
   "execution_count": 272,
   "outputs": [
    {
     "data": {
      "text/plain": "0       1\n1       1\n2       1\n3       1\n4       1\n       ..\n4158    0\n4159    0\n4160    1\n4161    0\n4162    1\nName: SOURCE, Length: 4163, dtype: int64"
     },
     "execution_count": 272,
     "metadata": {},
     "output_type": "execute_result"
    }
   ],
   "source": [
    "y"
   ],
   "metadata": {
    "collapsed": false,
    "pycharm": {
     "name": "#%%\n"
    }
   }
  },
  {
   "cell_type": "code",
   "execution_count": 273,
   "outputs": [],
   "source": [
    "from sklearn.model_selection import train_test_split"
   ],
   "metadata": {
    "collapsed": false,
    "pycharm": {
     "name": "#%%\n"
    }
   }
  },
  {
   "cell_type": "code",
   "execution_count": 274,
   "outputs": [],
   "source": [
    "X_train, X_test, y_train, y_test = train_test_split(X,y,test_size=0.2)"
   ],
   "metadata": {
    "collapsed": false,
    "pycharm": {
     "name": "#%%\n"
    }
   }
  },
  {
   "cell_type": "code",
   "execution_count": 275,
   "outputs": [
    {
     "data": {
      "text/plain": "      HAEMATOCRIT  HAEMOGLOBINS  ERYTHROCYTE  LEUCOCYTE  THROMBOCYTE   MCH  \\\n3308         39.7          13.5         4.72        4.6          186  28.6   \n1665         39.0          11.6         5.57        9.0          353  20.8   \n539          40.8          13.7         5.49       14.9          506  25.0   \n744          42.2          13.9         5.47        8.8          293  25.4   \n2078         28.6           8.9         4.27        3.8          378  20.8   \n...           ...           ...          ...        ...          ...   ...   \n2992         29.8           9.9         3.41        8.0          232  29.0   \n3748         26.9           9.2         3.16        3.8          335  29.1   \n1930         44.4          15.6         5.43        4.6           15  28.7   \n3162         40.2          13.6         4.84        9.7          357  28.1   \n2457         47.4          16.8         5.45        6.8          213  30.8   \n\n      MCHC   MCV  AGE  SEX  \n3308  34.0  84.1   67    1  \n1665  29.7  70.0   40    1  \n539   33.6  74.3   21    0  \n744   32.9  77.1   25    1  \n2078  31.1  67.0   47    0  \n...    ...   ...  ...  ...  \n2992  33.2  87.4   62    1  \n3748  34.2  85.1   75    1  \n1930  35.1  81.8   45    1  \n3162  33.8  83.1   65    1  \n2457  35.4  87.0   54    1  \n\n[3330 rows x 10 columns]",
      "text/html": "<div>\n<style scoped>\n    .dataframe tbody tr th:only-of-type {\n        vertical-align: middle;\n    }\n\n    .dataframe tbody tr th {\n        vertical-align: top;\n    }\n\n    .dataframe thead th {\n        text-align: right;\n    }\n</style>\n<table border=\"1\" class=\"dataframe\">\n  <thead>\n    <tr style=\"text-align: right;\">\n      <th></th>\n      <th>HAEMATOCRIT</th>\n      <th>HAEMOGLOBINS</th>\n      <th>ERYTHROCYTE</th>\n      <th>LEUCOCYTE</th>\n      <th>THROMBOCYTE</th>\n      <th>MCH</th>\n      <th>MCHC</th>\n      <th>MCV</th>\n      <th>AGE</th>\n      <th>SEX</th>\n    </tr>\n  </thead>\n  <tbody>\n    <tr>\n      <th>3308</th>\n      <td>39.7</td>\n      <td>13.5</td>\n      <td>4.72</td>\n      <td>4.6</td>\n      <td>186</td>\n      <td>28.6</td>\n      <td>34.0</td>\n      <td>84.1</td>\n      <td>67</td>\n      <td>1</td>\n    </tr>\n    <tr>\n      <th>1665</th>\n      <td>39.0</td>\n      <td>11.6</td>\n      <td>5.57</td>\n      <td>9.0</td>\n      <td>353</td>\n      <td>20.8</td>\n      <td>29.7</td>\n      <td>70.0</td>\n      <td>40</td>\n      <td>1</td>\n    </tr>\n    <tr>\n      <th>539</th>\n      <td>40.8</td>\n      <td>13.7</td>\n      <td>5.49</td>\n      <td>14.9</td>\n      <td>506</td>\n      <td>25.0</td>\n      <td>33.6</td>\n      <td>74.3</td>\n      <td>21</td>\n      <td>0</td>\n    </tr>\n    <tr>\n      <th>744</th>\n      <td>42.2</td>\n      <td>13.9</td>\n      <td>5.47</td>\n      <td>8.8</td>\n      <td>293</td>\n      <td>25.4</td>\n      <td>32.9</td>\n      <td>77.1</td>\n      <td>25</td>\n      <td>1</td>\n    </tr>\n    <tr>\n      <th>2078</th>\n      <td>28.6</td>\n      <td>8.9</td>\n      <td>4.27</td>\n      <td>3.8</td>\n      <td>378</td>\n      <td>20.8</td>\n      <td>31.1</td>\n      <td>67.0</td>\n      <td>47</td>\n      <td>0</td>\n    </tr>\n    <tr>\n      <th>...</th>\n      <td>...</td>\n      <td>...</td>\n      <td>...</td>\n      <td>...</td>\n      <td>...</td>\n      <td>...</td>\n      <td>...</td>\n      <td>...</td>\n      <td>...</td>\n      <td>...</td>\n    </tr>\n    <tr>\n      <th>2992</th>\n      <td>29.8</td>\n      <td>9.9</td>\n      <td>3.41</td>\n      <td>8.0</td>\n      <td>232</td>\n      <td>29.0</td>\n      <td>33.2</td>\n      <td>87.4</td>\n      <td>62</td>\n      <td>1</td>\n    </tr>\n    <tr>\n      <th>3748</th>\n      <td>26.9</td>\n      <td>9.2</td>\n      <td>3.16</td>\n      <td>3.8</td>\n      <td>335</td>\n      <td>29.1</td>\n      <td>34.2</td>\n      <td>85.1</td>\n      <td>75</td>\n      <td>1</td>\n    </tr>\n    <tr>\n      <th>1930</th>\n      <td>44.4</td>\n      <td>15.6</td>\n      <td>5.43</td>\n      <td>4.6</td>\n      <td>15</td>\n      <td>28.7</td>\n      <td>35.1</td>\n      <td>81.8</td>\n      <td>45</td>\n      <td>1</td>\n    </tr>\n    <tr>\n      <th>3162</th>\n      <td>40.2</td>\n      <td>13.6</td>\n      <td>4.84</td>\n      <td>9.7</td>\n      <td>357</td>\n      <td>28.1</td>\n      <td>33.8</td>\n      <td>83.1</td>\n      <td>65</td>\n      <td>1</td>\n    </tr>\n    <tr>\n      <th>2457</th>\n      <td>47.4</td>\n      <td>16.8</td>\n      <td>5.45</td>\n      <td>6.8</td>\n      <td>213</td>\n      <td>30.8</td>\n      <td>35.4</td>\n      <td>87.0</td>\n      <td>54</td>\n      <td>1</td>\n    </tr>\n  </tbody>\n</table>\n<p>3330 rows × 10 columns</p>\n</div>"
     },
     "execution_count": 275,
     "metadata": {},
     "output_type": "execute_result"
    }
   ],
   "source": [
    "X_train"
   ],
   "metadata": {
    "collapsed": false,
    "pycharm": {
     "name": "#%%\n"
    }
   }
  },
  {
   "cell_type": "code",
   "execution_count": 276,
   "outputs": [
    {
     "data": {
      "text/plain": "      HAEMATOCRIT  HAEMOGLOBINS  ERYTHROCYTE  LEUCOCYTE  THROMBOCYTE   MCH  \\\n1562         32.1          10.1         4.35        8.7          334  23.2   \n2548         30.9          10.2         3.48        7.0          404  29.3   \n3474         39.2          13.4         4.66        3.9          153  28.8   \n1494         37.2          12.5         4.42        8.7          328  28.3   \n939          36.0          11.5         5.36        7.0          256  21.5   \n...           ...           ...          ...        ...          ...   ...   \n2234         43.2          14.3         4.85       10.3          240  29.5   \n1104         37.6          13.0         5.20        4.4          152  25.0   \n1136         43.4          14.9         5.29       12.7          295  28.2   \n2041         37.0          12.2         4.23        4.0          260  28.8   \n4029         33.2          11.1         3.57        8.9          176  31.1   \n\n      MCHC   MCV  AGE  SEX  \n1562  31.5  73.8   38    0  \n2548  33.0  88.8   55    0  \n3474  34.2  84.1   69    1  \n1494  33.6  84.2   37    0  \n939   31.9  67.2   28    0  \n...    ...   ...  ...  ...  \n2234  33.1  89.1   50    1  \n1104  34.6  72.3   30    1  \n1136  34.3  82.0   31    0  \n2041  33.0  87.5   46    0  \n4029  33.4  93.0   83    0  \n\n[833 rows x 10 columns]",
      "text/html": "<div>\n<style scoped>\n    .dataframe tbody tr th:only-of-type {\n        vertical-align: middle;\n    }\n\n    .dataframe tbody tr th {\n        vertical-align: top;\n    }\n\n    .dataframe thead th {\n        text-align: right;\n    }\n</style>\n<table border=\"1\" class=\"dataframe\">\n  <thead>\n    <tr style=\"text-align: right;\">\n      <th></th>\n      <th>HAEMATOCRIT</th>\n      <th>HAEMOGLOBINS</th>\n      <th>ERYTHROCYTE</th>\n      <th>LEUCOCYTE</th>\n      <th>THROMBOCYTE</th>\n      <th>MCH</th>\n      <th>MCHC</th>\n      <th>MCV</th>\n      <th>AGE</th>\n      <th>SEX</th>\n    </tr>\n  </thead>\n  <tbody>\n    <tr>\n      <th>1562</th>\n      <td>32.1</td>\n      <td>10.1</td>\n      <td>4.35</td>\n      <td>8.7</td>\n      <td>334</td>\n      <td>23.2</td>\n      <td>31.5</td>\n      <td>73.8</td>\n      <td>38</td>\n      <td>0</td>\n    </tr>\n    <tr>\n      <th>2548</th>\n      <td>30.9</td>\n      <td>10.2</td>\n      <td>3.48</td>\n      <td>7.0</td>\n      <td>404</td>\n      <td>29.3</td>\n      <td>33.0</td>\n      <td>88.8</td>\n      <td>55</td>\n      <td>0</td>\n    </tr>\n    <tr>\n      <th>3474</th>\n      <td>39.2</td>\n      <td>13.4</td>\n      <td>4.66</td>\n      <td>3.9</td>\n      <td>153</td>\n      <td>28.8</td>\n      <td>34.2</td>\n      <td>84.1</td>\n      <td>69</td>\n      <td>1</td>\n    </tr>\n    <tr>\n      <th>1494</th>\n      <td>37.2</td>\n      <td>12.5</td>\n      <td>4.42</td>\n      <td>8.7</td>\n      <td>328</td>\n      <td>28.3</td>\n      <td>33.6</td>\n      <td>84.2</td>\n      <td>37</td>\n      <td>0</td>\n    </tr>\n    <tr>\n      <th>939</th>\n      <td>36.0</td>\n      <td>11.5</td>\n      <td>5.36</td>\n      <td>7.0</td>\n      <td>256</td>\n      <td>21.5</td>\n      <td>31.9</td>\n      <td>67.2</td>\n      <td>28</td>\n      <td>0</td>\n    </tr>\n    <tr>\n      <th>...</th>\n      <td>...</td>\n      <td>...</td>\n      <td>...</td>\n      <td>...</td>\n      <td>...</td>\n      <td>...</td>\n      <td>...</td>\n      <td>...</td>\n      <td>...</td>\n      <td>...</td>\n    </tr>\n    <tr>\n      <th>2234</th>\n      <td>43.2</td>\n      <td>14.3</td>\n      <td>4.85</td>\n      <td>10.3</td>\n      <td>240</td>\n      <td>29.5</td>\n      <td>33.1</td>\n      <td>89.1</td>\n      <td>50</td>\n      <td>1</td>\n    </tr>\n    <tr>\n      <th>1104</th>\n      <td>37.6</td>\n      <td>13.0</td>\n      <td>5.20</td>\n      <td>4.4</td>\n      <td>152</td>\n      <td>25.0</td>\n      <td>34.6</td>\n      <td>72.3</td>\n      <td>30</td>\n      <td>1</td>\n    </tr>\n    <tr>\n      <th>1136</th>\n      <td>43.4</td>\n      <td>14.9</td>\n      <td>5.29</td>\n      <td>12.7</td>\n      <td>295</td>\n      <td>28.2</td>\n      <td>34.3</td>\n      <td>82.0</td>\n      <td>31</td>\n      <td>0</td>\n    </tr>\n    <tr>\n      <th>2041</th>\n      <td>37.0</td>\n      <td>12.2</td>\n      <td>4.23</td>\n      <td>4.0</td>\n      <td>260</td>\n      <td>28.8</td>\n      <td>33.0</td>\n      <td>87.5</td>\n      <td>46</td>\n      <td>0</td>\n    </tr>\n    <tr>\n      <th>4029</th>\n      <td>33.2</td>\n      <td>11.1</td>\n      <td>3.57</td>\n      <td>8.9</td>\n      <td>176</td>\n      <td>31.1</td>\n      <td>33.4</td>\n      <td>93.0</td>\n      <td>83</td>\n      <td>0</td>\n    </tr>\n  </tbody>\n</table>\n<p>833 rows × 10 columns</p>\n</div>"
     },
     "execution_count": 276,
     "metadata": {},
     "output_type": "execute_result"
    }
   ],
   "source": [
    "X_test"
   ],
   "metadata": {
    "collapsed": false,
    "pycharm": {
     "name": "#%%\n"
    }
   }
  },
  {
   "cell_type": "code",
   "execution_count": 277,
   "outputs": [],
   "source": [
    "from sklearn.linear_model import LogisticRegression"
   ],
   "metadata": {
    "collapsed": false,
    "pycharm": {
     "name": "#%%\n"
    }
   }
  },
  {
   "cell_type": "code",
   "execution_count": 278,
   "outputs": [],
   "source": [
    "lg = LogisticRegression()"
   ],
   "metadata": {
    "collapsed": false,
    "pycharm": {
     "name": "#%%\n"
    }
   }
  },
  {
   "cell_type": "code",
   "execution_count": 279,
   "outputs": [
    {
     "name": "stderr",
     "output_type": "stream",
     "text": [
      "/home/rohit/anaconda3/lib/python3.9/site-packages/sklearn/linear_model/_logistic.py:814: ConvergenceWarning: lbfgs failed to converge (status=1):\n",
      "STOP: TOTAL NO. of ITERATIONS REACHED LIMIT.\n",
      "\n",
      "Increase the number of iterations (max_iter) or scale the data as shown in:\n",
      "    https://scikit-learn.org/stable/modules/preprocessing.html\n",
      "Please also refer to the documentation for alternative solver options:\n",
      "    https://scikit-learn.org/stable/modules/linear_model.html#logistic-regression\n",
      "  n_iter_i = _check_optimize_result(\n"
     ]
    },
    {
     "data": {
      "text/plain": "LogisticRegression()"
     },
     "execution_count": 279,
     "metadata": {},
     "output_type": "execute_result"
    }
   ],
   "source": [
    "lg.fit(X_train, y_train)"
   ],
   "metadata": {
    "collapsed": false,
    "pycharm": {
     "name": "#%%\n"
    }
   }
  },
  {
   "cell_type": "code",
   "execution_count": 292,
   "outputs": [
    {
     "data": {
      "text/plain": "0.7310924369747899"
     },
     "execution_count": 292,
     "metadata": {},
     "output_type": "execute_result"
    }
   ],
   "source": [
    "lg.score(X_test, y_test)"
   ],
   "metadata": {
    "collapsed": false,
    "pycharm": {
     "name": "#%%\n"
    }
   }
  },
  {
   "cell_type": "code",
   "execution_count": 280,
   "outputs": [],
   "source": [
    "y_pred = lg.predict(X_test)"
   ],
   "metadata": {
    "collapsed": false,
    "pycharm": {
     "name": "#%%\n"
    }
   }
  },
  {
   "cell_type": "code",
   "execution_count": 281,
   "outputs": [
    {
     "data": {
      "text/plain": "array([1, 1, 0, 1, 1, 0, 1, 0, 1, 1, 0, 1, 0, 1, 1, 0, 1, 1, 1, 1, 1, 1,\n       0, 0, 1, 0, 1, 1, 0, 1, 0, 0, 0, 0, 1, 1, 1, 1, 1, 1, 0, 1, 1, 0,\n       1, 1, 1, 1, 0, 1, 1, 1, 1, 0, 1, 1, 0, 1, 0, 1, 0, 0, 1, 1, 1, 1,\n       0, 1, 1, 1, 1, 1, 0, 0, 1, 1, 1, 1, 1, 0, 1, 1, 1, 1, 1, 1, 1, 0,\n       0, 1, 1, 1, 1, 1, 1, 1, 0, 0, 1, 1, 1, 1, 1, 1, 1, 0, 1, 1, 1, 0,\n       1, 1, 1, 0, 0, 0, 1, 1, 1, 0, 1, 0, 1, 0, 1, 1, 0, 1, 1, 1, 0, 1,\n       1, 1, 0, 0, 1, 0, 1, 1, 1, 1, 1, 0, 0, 0, 0, 1, 1, 1, 1, 1, 1, 0,\n       0, 0, 1, 1, 0, 1, 1, 1, 0, 1, 1, 1, 1, 1, 1, 0, 1, 1, 1, 1, 1, 0,\n       0, 1, 1, 0, 1, 1, 1, 1, 1, 1, 1, 1, 1, 1, 1, 1, 0, 1, 0, 1, 0, 1,\n       0, 1, 0, 1, 1, 1, 1, 0, 0, 1, 1, 1, 1, 0, 1, 1, 1, 0, 1, 0, 0, 1,\n       1, 1, 1, 1, 1, 1, 1, 0, 1, 0, 1, 1, 1, 0, 1, 1, 1, 1, 0, 1, 0, 0,\n       1, 0, 1, 1, 1, 1, 0, 0, 1, 1, 0, 1, 1, 0, 1, 1, 0, 1, 1, 1, 1, 0,\n       1, 1, 1, 0, 1, 1, 1, 1, 0, 0, 1, 1, 1, 0, 1, 0, 0, 1, 1, 1, 1, 1,\n       0, 1, 1, 1, 1, 1, 1, 1, 1, 1, 1, 1, 1, 1, 1, 0, 1, 1, 1, 1, 0, 1,\n       1, 1, 0, 0, 1, 1, 1, 1, 1, 1, 1, 1, 1, 1, 0, 1, 1, 0, 1, 0, 1, 1,\n       1, 0, 0, 1, 1, 1, 1, 0, 1, 1, 1, 0, 1, 0, 1, 0, 1, 1, 0, 1, 1, 1,\n       0, 1, 1, 1, 1, 1, 0, 1, 1, 1, 1, 0, 1, 0, 1, 1, 1, 1, 1, 1, 1, 0,\n       1, 1, 1, 1, 1, 1, 0, 1, 0, 1, 0, 1, 1, 1, 0, 1, 1, 1, 0, 1, 1, 1,\n       0, 0, 1, 0, 1, 0, 1, 0, 1, 0, 0, 1, 0, 0, 0, 1, 0, 1, 1, 1, 1, 1,\n       1, 1, 1, 1, 1, 1, 1, 0, 0, 1, 1, 1, 0, 1, 1, 1, 1, 1, 1, 1, 1, 1,\n       1, 1, 1, 1, 1, 1, 1, 0, 1, 0, 1, 0, 0, 0, 1, 0, 1, 1, 0, 1, 1, 1,\n       1, 1, 1, 0, 0, 1, 1, 0, 0, 1, 1, 0, 0, 1, 0, 0, 1, 1, 1, 1, 1, 1,\n       1, 1, 1, 0, 1, 1, 1, 0, 1, 1, 1, 0, 1, 1, 0, 0, 1, 1, 1, 0, 1, 1,\n       0, 0, 0, 0, 1, 0, 1, 1, 0, 1, 1, 0, 1, 0, 1, 0, 1, 1, 1, 1, 1, 0,\n       1, 0, 1, 1, 1, 1, 0, 1, 0, 1, 1, 0, 0, 1, 0, 0, 1, 0, 1, 0, 0, 1,\n       0, 1, 0, 1, 0, 1, 1, 1, 1, 0, 1, 1, 1, 1, 0, 0, 1, 0, 1, 1, 0, 1,\n       1, 1, 0, 1, 1, 1, 0, 1, 0, 0, 1, 1, 0, 1, 1, 1, 0, 1, 1, 0, 1, 1,\n       0, 1, 1, 1, 1, 0, 1, 1, 0, 1, 0, 0, 0, 0, 1, 1, 1, 1, 1, 1, 1, 0,\n       0, 0, 1, 0, 0, 0, 1, 0, 0, 0, 1, 1, 0, 1, 1, 1, 1, 0, 1, 1, 1, 0,\n       0, 1, 1, 1, 1, 0, 1, 0, 1, 1, 0, 1, 1, 1, 1, 1, 1, 1, 0, 0, 0, 1,\n       1, 0, 1, 1, 1, 1, 1, 0, 1, 1, 1, 1, 0, 1, 1, 1, 0, 0, 1, 1, 1, 1,\n       1, 1, 0, 1, 0, 1, 1, 1, 1, 0, 1, 1, 1, 1, 1, 1, 0, 0, 0, 1, 0, 0,\n       1, 1, 1, 1, 1, 1, 1, 1, 1, 1, 1, 1, 0, 0, 1, 0, 1, 1, 0, 1, 0, 1,\n       1, 0, 1, 1, 0, 0, 1, 1, 1, 1, 0, 0, 0, 1, 1, 0, 0, 1, 1, 1, 0, 1,\n       1, 1, 1, 1, 1, 0, 1, 1, 0, 1, 0, 1, 1, 1, 1, 1, 1, 1, 0, 1, 1, 1,\n       1, 0, 1, 1, 0, 1, 0, 0, 0, 0, 1, 0, 0, 1, 0, 1, 1, 1, 0, 0, 1, 1,\n       1, 1, 0, 1, 1, 1, 0, 1, 0, 1, 0, 1, 1, 1, 1, 1, 0, 1, 1, 1, 1, 1,\n       1, 1, 1, 1, 1, 1, 1, 0, 1, 1, 0, 1, 0, 1, 1, 0, 1, 1, 0])"
     },
     "execution_count": 281,
     "metadata": {},
     "output_type": "execute_result"
    }
   ],
   "source": [
    "y_pred"
   ],
   "metadata": {
    "collapsed": false,
    "pycharm": {
     "name": "#%%\n"
    }
   }
  },
  {
   "cell_type": "code",
   "execution_count": 282,
   "outputs": [],
   "source": [
    "from sklearn.metrics import confusion_matrix, accuracy_score, classification_report"
   ],
   "metadata": {
    "collapsed": false,
    "pycharm": {
     "name": "#%%\n"
    }
   }
  },
  {
   "cell_type": "code",
   "execution_count": 283,
   "outputs": [],
   "source": [
    "cm = confusion_matrix(y_test, y_pred)"
   ],
   "metadata": {
    "collapsed": false,
    "pycharm": {
     "name": "#%%\n"
    }
   }
  },
  {
   "cell_type": "code",
   "execution_count": 291,
   "outputs": [
    {
     "data": {
      "text/plain": "<AxesSubplot:>"
     },
     "execution_count": 291,
     "metadata": {},
     "output_type": "execute_result"
    },
    {
     "data": {
      "text/plain": "<Figure size 432x288 with 2 Axes>",
      "image/png": "[encoded data removed]"
     },
     "metadata": {
      "needs_background": "light"
     },
     "output_type": "display_data"
    }
   ],
   "source": [
    "sns.heatmap(cm, annot=True, fmt='.02%')"
   ],
   "metadata": {
    "collapsed": false,
    "pycharm": {
     "name": "#%%\n"
    }
   }
  },
  {
   "cell_type": "code",
   "execution_count": 290,
   "outputs": [
    {
     "name": "stdout",
     "output_type": "stream",
     "text": [
      "              precision    recall  f1-score   support\n",
      "\n",
      "           0       0.73      0.55      0.63       341\n",
      "           1       0.73      0.86      0.79       492\n",
      "\n",
      "    accuracy                           0.73       833\n",
      "   macro avg       0.73      0.70      0.71       833\n",
      "weighted avg       0.73      0.73      0.72       833\n",
      "\n"
     ]
    }
   ],
   "source": [
    "print(classification_report(y_test, y_pred))"
   ],
   "metadata": {
    "collapsed": false,
    "pycharm": {
     "name": "#%%\n"
    }
   }
  },
  {
   "cell_type": "code",
   "execution_count": null,
   "outputs": [],
   "source": [],
   "metadata": {
    "collapsed": false,
    "pycharm": {
     "name": "#%%\n"
    }
   }
  }
 ],
 "metadata": {
  "kernelspec": {
   "display_name": "Python 3",
   "language": "python",
   "name": "python3"
  },
  "language_info": {
   "codemirror_mode": {
    "name": "ipython",
    "version": 2
   },
   "file_extension": ".py",
   "mimetype": "text/x-python",
   "name": "python",
   "nbconvert_exporter": "python",
   "pygments_lexer": "ipython2",
   "version": "2.7.6"
  }
 },
 "nbformat": 4,
 "nbformat_minor": 0
}